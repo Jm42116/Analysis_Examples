{
 "cells": [
  {
   "cell_type": "markdown",
   "metadata": {},
   "source": [
    "# Data Scraping\n",
    "First initialize API keys for Spotipy."
   ]
  },
  {
   "cell_type": "code",
   "execution_count": 139,
   "metadata": {},
   "outputs": [],
   "source": [
    "import spotipy\n",
    "from spotipy.oauth2 import SpotifyClientCredentials\n",
    "\n",
    "lz_uri = 'spotify:artist:36QJpDe2go2KgaRleHCDTp'\n",
    "\n",
    "client_id='92c8a0f02a534977a46ddc9edc25cf95'\n",
    "client_secret='f6e996e2a50a4d309befc11f0bc78b9a'\n",
    "client_credentials_manager = SpotifyClientCredentials(client_id='92c8a0f02a534977a46ddc9edc25cf95',client_secret='f6e996e2a50a4d309befc11f0bc78b9a')\n",
    "sp = spotipy.Spotify(client_credentials_manager=client_credentials_manager)"
   ]
  },
  {
   "cell_type": "markdown",
   "metadata": {},
   "source": [
    "Get top n songs from a range of years. (We used a small range here for speed, but originally we scraped the top 50 songs for every year from 1950 to 2022)."
   ]
  },
  {
   "cell_type": "code",
   "execution_count": 140,
   "metadata": {},
   "outputs": [
    {
     "name": "stdout",
     "output_type": "stream",
     "text": [
      "{2015: [{'title': 'Space Song', 'artist': 'Beach House'}, {'title': 'Tennessee Whiskey', 'artist': 'Chris Stapleton'}, {'title': \"Don't\", 'artist': 'Bryson Tiller'}, {'title': 'Star Shopping', 'artist': 'Lil Peep'}, {'title': 'The Hills', 'artist': 'The Weeknd'}]}\n"
     ]
    }
   ],
   "source": [
    "# get top songs from each year\n",
    "best_songs_of_years = {}\n",
    "for year in range(2015, 2016):\n",
    "    results = sp.search(q=f\"year:{year}\", type='track', limit=5)\n",
    "    song_artist = [] # (song, artist) top 50 of year\n",
    "\n",
    "    for track in results['tracks']['items']:\n",
    "        song_artist.append({\"title\" : track['name'], \"artist\" : track['artists'][0]['name']})\n",
    "    \n",
    "    best_songs_of_years[year] = song_artist\n",
    "\n",
    "print(best_songs_of_years)"
   ]
  },
  {
   "cell_type": "markdown",
   "metadata": {},
   "source": [
    "Initialize API keys for Genius API to scrape lyrics of ever song."
   ]
  },
  {
   "cell_type": "code",
   "execution_count": 142,
   "metadata": {},
   "outputs": [],
   "source": [
    "from lyricsgenius import Genius\n",
    "genius_access_token = 'gft0XToPCTQM6M1gHxSswQdYoz6XZPnhVFFexzh-hU4rAwfVWv89I5sID1RA-NjO'\n",
    "genius = Genius(genius_access_token)"
   ]
  },
  {
   "cell_type": "markdown",
   "metadata": {},
   "source": [
    "Function to get lyrics given a song name and artist."
   ]
  },
  {
   "cell_type": "code",
   "execution_count": 143,
   "metadata": {},
   "outputs": [
    {
     "name": "stdout",
     "output_type": "stream",
     "text": [
      "Searching for \"Bohemian Rhapsody\" by Queen...\n",
      "Done.\n",
      "460 ContributorsTranslationsDeutschTürkçeไทย / Phasa ThaiEspañolPortuguêsفارسیBohemian Rhapsody Lyrics[Intro]\n",
      "Is this the real life? Is this just fantasy?\n",
      "Caught in a landslide, no escape from reality\n",
      "Open your eyes, look up to the skies and see\n",
      "I'm just a poor boy, I need no sympathy\n",
      "Because I'm easy come, easy go, little high, little low\n",
      "Any way the wind blows doesn't really matter to me, to me\n",
      "\n",
      "[Verse 1]\n",
      "Mama, just killed a man\n",
      "Put a gun against his head, pulled my trigger, now he's dead\n",
      "Mama, life had just begun\n",
      "But now I've gone and thrown it all away\n",
      "Mama, ooh, didn't mean to make you cry\n",
      "If I'm not back again this time tomorrow\n",
      "Carry on, carry on as if nothing really matters\n",
      "[Verse 2]\n",
      "Too late, my time has come\n",
      "Sends shivers down my spine, body's aching all the time\n",
      "Goodbye, everybody, I've got to go\n",
      "Gotta leave you all behind and face the truth\n",
      "Mama, ooh (Any way the wind blows)\n",
      "I don't wanna die\n",
      "I sometimes wish I'd never been born at all\n",
      "\n",
      "[Guitar Solo]\n",
      "\n",
      "[Verse 3]\n",
      "I see a little silhouetto of a man\n",
      "Scaramouche, Scaramouche, will you do the Fandango?\n",
      "Thunderbolt and lightning, very, very frightening me\n",
      "(Galileo) Galileo, (Galileo) Galileo, Galileo Figaro magnifico\n",
      "But I'm just a poor boy, nobody loves me\n",
      "He's just a poor boy from a poor family\n",
      "Spare him his life from this monstrosity\n",
      "Easy come, easy go, will you let me go?\n",
      "Bismillah! No, we will not let you go\n",
      "(Let him go) Bismillah! We will not let you go\n",
      "(Let him go) Bismillah! We will not let you go\n",
      "(Let me go) Will not let you go\n",
      "(Let me go) Will not let you go\n",
      "(Never, never, never, never let me go) Ah\n",
      "No, no, no, no, no, no, no\n",
      "(Oh, mamma mia, mamma mia) Mamma mia, let me go\n",
      "Beelzebub has a devil put aside for me, for me, for me!\n",
      "You might also like[Verse 4]\n",
      "So you think you can stone me and spit in my eye?\n",
      "So you think you can love me and leave me to die?\n",
      "Oh, baby, can't do this to me, baby!\n",
      "Just gotta get out, just gotta get right outta here\n",
      "\n",
      "[Outro]\n",
      "(Ooh)\n",
      "(Ooh, yeah, ooh, yeah)\n",
      "Nothing really matters, anyone can see\n",
      "Nothing really matters\n",
      "Nothing really matters to me\n",
      "Any way the wind blows690Embed\n"
     ]
    }
   ],
   "source": [
    "def get_lyrics(song, artist):\n",
    "    song = genius.search_song(song, artist)\n",
    "    return song.lyrics\n",
    "\n",
    "print(get_lyrics( \"Bohemian Rhapsody\",\"Queen\"))"
   ]
  },
  {
   "cell_type": "markdown",
   "metadata": {},
   "source": [
    "Scrape lyrics of every song in best_songs_of_years"
   ]
  },
  {
   "cell_type": "code",
   "execution_count": 144,
   "metadata": {},
   "outputs": [
    {
     "name": "stdout",
     "output_type": "stream",
     "text": [
      "Searching for \"Space Song\" by Beach House...\n",
      "Done.\n",
      "Searching for \"Tennessee Whiskey\" by Chris Stapleton...\n",
      "Searching for \"Don't\" by Bryson Tiller...\n",
      "Done.\n",
      "Searching for \"Star Shopping\" by Lil Peep...\n",
      "Done.\n",
      "Searching for \"The Hills\" by The Weeknd...\n",
      "Done.\n"
     ]
    }
   ],
   "source": [
    "import numpy as np\n",
    "# add lyrics to best_songs_of_years\n",
    "for year in best_songs_of_years:\n",
    "    for i in range(len(best_songs_of_years[2015])):\n",
    "        song_title=str(best_songs_of_years[year][i][\"title\"])\n",
    "        artist_name=str(best_songs_of_years[year][i][\"artist\"])\n",
    "        try:\n",
    "            lyrics = get_lyrics(song=song_title, artist=artist_name)\n",
    "            best_songs_of_years[year][i][\"lyrics\"] = lyrics\n",
    "        except:\n",
    "            best_songs_of_years[year][i][\"lyrics\"] = np.nan"
   ]
  },
  {
   "cell_type": "code",
   "execution_count": 145,
   "metadata": {},
   "outputs": [
    {
     "data": {
      "text/plain": [
       "{2015: [{'title': 'Space Song',\n",
       "   'artist': 'Beach House',\n",
       "   'lyrics': \"82 ContributorsTranslationsFrançaisSpace Song Lyrics[Verse 1]\\nIt was late at night\\nYou held on tight\\nFrom an empty seat\\nA flash of light\\nIt will take a while\\nTo make you smile\\nSomewhere in these eyes\\nI'm on your side\\nYou wide-eyed girls\\nYou get it right\\n[Chorus]\\nFall back into place\\nFall back into place\\n\\n[Verse 2]\\nTender is the night\\nFor a broken heart\\nWho will dry your eyes\\nWhen it falls apart?\\nWhat makes this fragile world go 'round?\\nWere you ever lost?\\nWas she ever found?\\nSomewhere in these eyes\\n\\n[Chorus]\\nFall back into place\\nFall back into place\\nFall back into place\\nFall back into place\\nFall back into place\\nFall back into place\\nFall back into place\\nFall back into place\\nFall back into place\\nFall back into place\\nFall back into place\\nFall back into place\\nFall back into place\\nFall back inYou might also like105Embed\"},\n",
       "  {'title': 'Tennessee Whiskey', 'artist': 'Chris Stapleton', 'lyrics': nan},\n",
       "  {'title': \"Don't\",\n",
       "   'artist': 'Bryson Tiller',\n",
       "   'lyrics': '189 ContributorsTranslationsTürkçePortuguêsDon’t Lyrics[Verse 1]\\nDon\\'t, don\\'t play with her, don\\'t be dishonest (Ayy)\\nStill not understandin\\' this logic (Ayy)\\nI\\'m back and I\\'m better (And I\\'m better)\\nI want you bad as ever\\nDon\\'t let me just let up\\nI wanna give you better\\nBaby, it\\'s whatever\\nSomebody gotta step up\\nGirl, I\\'m that somebody, so I\\'m next up\\nBe damned if I let him catch up\\nIt\\'s easy to see that you\\'re fed up\\nI am on a whole \\'nother level\\nGirl, he only fucked you over \\'cause you let him\\nFuck him, girl, I guess he didn\\'t know any better\\nGirl, that man didn\\'t show any effort\\nDo all I can just to show you you\\'re special\\nCertain it\\'s your love that holds me together\\nLately you say he been killin\\' the vibe\\nGotta be sick of this guy\\nPull up, skrr, get in the ride\\nLeft hand is steerin\\' the other is grippin\\' your thigh\\nLight up a spliff and get high\\nShawty, you deserve what you\\'ve been missin\\'\\nLookin\\' at you I\\'m thinkin\\' he must be trippin\\'\\nPlay this song for him, tell him, \"Just listen\"\\n[Chorus]\\nDon\\'t\\nDon\\'t\\n\\n[Verse 2]\\nGirl, said he keeps on playin\\' games\\nAnd his lovin\\' ain\\'t the same\\nI don\\'t know what to say, but\\nWhat a shame\\nIf you were mine you would not get the same\\nIf you were mine you would top everything\\nSuicide in the drop switchin\\' lanes\\nAnd that thing so fire, baby, no propane\\nGot good pussy, girl, can I be frank?\\nTo keep it 100, girl, I ain\\'t no saint\\nBut he the only reason that I\\'m feelin\\' this way\\nGivin\\' you the world, baby, when you get space\\nPen game get me laid, baby, that\\'s penetrate\\nOh baby\\n\\n[Chorus]\\nDon\\'t\\n[Verse 3: King Vory]\\nH-Town got a nigga so throwed\\nPour up, we can party some more\\nYeah, got this drank in my cup\\nGot a young nigga feelin\\' so throwed\\nSpit fire in a world so cold\\nYoung money got a nigga feelin\\' old\\nSpit fire in a world so cold\\nH-Town got me feelin\\' so throwed\\nH-Town got me feelin\\' so throwed\\nRide paint and we sip \\'til we fold\\nH-Town got me feelin\\' so throwed\\nSpit fire in a world so cold\\nH-Town got a nigga so throwed\\nYou might also like[Chorus]\\nDon\\'t545Embed'},\n",
       "  {'title': 'Star Shopping',\n",
       "   'artist': 'Lil Peep',\n",
       "   'lyrics': \"310 ContributorsTranslationsFrançaisDeutschTürkçePortuguêsفارسیItalianoSvenskaČeskyPolskiEspañolРусскийStar Shopping Lyrics[Verse]\\nWait right here\\nI'll be back in the mornin'\\nI know that I'm not that important to you\\nBut to me, girl, you're so much more than gorgeous (Yeah)\\nSo much more than perfect (Yeah)\\nRight now I know that I'm not really worth it\\nIf you give me time, I could work on it\\nGive me some time while I work on it\\nLosin' your patience, and, girl, I don't blame you\\nThe Earth's in rotation, you're waitin' for me (Yeah)\\nLook at my face when I fuck on your waist\\n'Cause we only have one conversation a week\\nThat's why your friends always hatin' on me\\nFuck 'em though, I did this all by myself\\nMatter fact, I ain't never asked no one for help\\nAnd that's why I don't pick up my phone when it rings\\nNone of my exes is over Lil Peep\\nNobody flexin' as much as I be\\nThat's why she text me and tell me she love me\\nShe know that someday I'll be over the sea\\nMakin' my money and smokin' my weed\\nI think it's funny, she open up to me, get comfortable with me\\nOnce I got it comin', I love her, she love me\\nI know that I'm nothing like someone her family want me to be\\nIf I find a way, would you walk it with me?\\nLook at my face while you talkin' to me\\n'Cause we only have one conversation a week\\nCan I get one conversation at least?\\nShout out to everyone makin' my beats, you helpin' me preach\\nThis music's the only thing keepin' the peace when I'm fallin' to pieces\\n[Chorus]\\nLook at the sky tonight, all of the stars have a reason\\nA reason to shine, a reason like mine and I'm fallin' to pieces\\nLook at the sky tonight, all of the stars have a reasonYou might also like1.4KEmbed\"},\n",
       "  {'title': 'The Hills',\n",
       "   'artist': 'The Weeknd',\n",
       "   'lyrics': '349 ContributorsTranslationsTürkçeEspañolРусскийPortuguêsFrançaisفارسیPolskiPortuguêsDeutschItalianoThe Hills Lyrics[Intro]\\nYeah\\nYeah\\nYeah\\n\\n[Verse 1]\\nYour man on the road, he doin\\' promo\\nYou said, \"Keep our business on the low-low\"\\nI\\'m just tryna get you out the friend zone\\n\\'Cause you look even better than the photos\\nI can\\'t find your house, send me the info\\nDrivin\\' through the gated residential\\nFound out I was comin\\', sent your friends home\\nKeep on tryna hide it, but your friends know\\n[Chorus]\\nI only call you when it\\'s half-past five\\nThe only time that I\\'ll be by your side\\nI only love it when you touch me, not feel me\\nWhen I\\'m fucked up, that\\'s the real me\\nWhen I\\'m fucked up, that\\'s the real me, yeah\\nI only call you when it\\'s half-past five\\nThe only time I\\'d ever call you mine\\nI only love it when you touch me, not feel me\\nWhen I\\'m fucked up, that\\'s the real me\\nWhen I\\'m fucked up, that\\'s the real me, babe\\n\\n[Verse 2]\\nI\\'ma let you know and keep it simple\\nTryna keep it up don\\'t seem so simple\\nI just fucked two bitches \\'fore I saw you\\nAnd you gon\\' have to do it at my tempo\\nAlways tryna send me off to rehab\\nDrugs started feelin\\' like it\\'s decaf\\nI\\'m just tryna live life for the moment\\nAnd all these motherfuckers want a relapse\\n\\n[Chorus]\\nI only call you when it\\'s half-past five\\nThe only time that I\\'ll be by your side\\nI only love it when you touch me, not feel me\\nWhen I\\'m fucked up, that\\'s the real me\\nWhen I\\'m fucked up, that\\'s the real me, yeah\\nI only call you when it\\'s half-past five\\nThe only time I\\'d ever call you mine\\nI only love it when you touch me, not feel me\\nWhen I\\'m fucked up, that\\'s the real me\\nWhen I\\'m fucked up, that\\'s the real me, babe\\nSee The Weeknd LiveGet tickets as low as $41You might also like[Bridge]\\nHills have eyes, the hills have eyes\\nWho are you to judge? Who are you to judge?\\nHide your lies, girl, hide your lies (Hide your lies, oh, baby)\\nOnly you to trust, only you\\n\\n[Chorus]\\nI only call you when it\\'s half-past five\\nThe only time that I\\'ll be by your side\\nI only love it when you touch me, not feel me\\nWhen I\\'m fucked up, that\\'s the real me\\nWhen I\\'m fucked up, that\\'s the real me, yeah\\nI only call you when it\\'s half-past five\\nThe only time I\\'d ever call you mine\\nI only love it when you touch me, not feel me\\nWhen I\\'m fucked up, that\\'s the real me\\nWhen I\\'m fucked up, that\\'s the real me, babe\\n\\n[Outro]\\nEwedihalehu\\nYene konjo, ewedihalehu\\nYene fikir, fikir, fikir, fikir\\nYene fikir, fikir, fikir, fikir\\nEwedihalehu\\nYene konjo, ewedihalehu...1.8KEmbed'}]}"
      ]
     },
     "execution_count": 145,
     "metadata": {},
     "output_type": "execute_result"
    }
   ],
   "source": [
    "best_songs_of_years"
   ]
  },
  {
   "cell_type": "markdown",
   "metadata": {},
   "source": [
    "Save data in json."
   ]
  },
  {
   "cell_type": "code",
   "execution_count": null,
   "metadata": {},
   "outputs": [],
   "source": [
    "import json\n",
    "with open(\"songs_demo.json\", \"w\") as outfile:\n",
    "    json.dump(best_songs_of_years, outfile)"
   ]
  },
  {
   "cell_type": "markdown",
   "metadata": {},
   "source": [
    "# Data Analysis\n",
    "\n",
    "Run necessary imports."
   ]
  },
  {
   "cell_type": "code",
   "execution_count": 2,
   "metadata": {},
   "outputs": [],
   "source": [
    "import pandas as pd\n",
    "import json\n",
    "\n",
    "with open('songs4.json') as f:\n",
    "    data = json.load(f)"
   ]
  },
  {
   "cell_type": "markdown",
   "metadata": {},
   "source": [
    "We can now use 2 for loops to iterate through all of the titles within our dataset and find the average length of the titles for the song in each year and compare them."
   ]
  },
  {
   "cell_type": "code",
   "execution_count": 3,
   "metadata": {},
   "outputs": [
    {
     "name": "stdout",
     "output_type": "stream",
     "text": [
      "{'1950': 3.7, '1951': 3.58, '1952': 3.74, '1953': 3.92, '1954': 3.82, '1955': 3.78, '1956': 4.66, '1957': 4.54, '1958': 3.52, '1959': 4.34, '1960': 4.18, '1961': 4.22, '1962': 4.42, '1963': 4.74, '1964': 4.62, '1965': 4.8, '1966': 4.52, '1967': 4.16, '1968': 5.3, '1969': 3.92, '1970': 4.22, '1971': 4.78, '1972': 4.04, '1973': 3.92, '1974': 3.76, '1975': 4.22, '1976': 4.02, '1977': 4.02, '1978': 3.62, '1979': 4.08, '1980': 4.32, '1981': 4.14, '1982': 3.84, '1983': 4.28, '1984': 4.2, '1985': 4.14, '1986': 3.9, '1987': 4.74, '1988': 3.06, '1989': 3.32, '1990': 3.5, '1991': 3.46, '1992': 3.5, '1993': 4.26, '1994': 3.14, '1995': 3.2, '1996': 3.42, '1997': 3.58, '1998': 3.12, '1999': 3.08, '2000': 3.28, '2001': 2.92, '2002': 2.84, '2003': 3.04, '2004': 2.98, '2005': 2.9, '2006': 2.98, '2007': 2.6, '2008': 2.28, '2009': 2.74, '2010': 3.28, '2011': 3.12, '2012': 2.9, '2013': 3.1, '2014': 2.64, '2015': 2.92, '2016': 2.54, '2017': 2.74, '2018': 3.34, '2019': 2.7, '2020': 3.06, '2021': 3.54, '2022': 3.46}\n",
      "3.6610958904109587\n"
     ]
    }
   ],
   "source": [
    "import statistics\n",
    "avg_title_length_dict = {}\n",
    "for year in range(1950,2023):\n",
    "    title_length = 0\n",
    "    for song in range(0,50):\n",
    "        title = data[str(year)][song]['title']\n",
    "        title_length += len(title.split())\n",
    "    avg_title_length = (title_length/50)\n",
    "    avg_title_length_dict[str(year)] = avg_title_length\n",
    "print(avg_title_length_dict)\n",
    "print(statistics.mean(avg_title_length_dict.values()))"
   ]
  },
  {
   "cell_type": "code",
   "execution_count": 4,
   "metadata": {},
   "outputs": [
    {
     "data": {
      "image/png": "[encoded data removed]",
      "text/plain": [
       "<Figure size 432x288 with 1 Axes>"
      ]
     },
     "metadata": {
      "needs_background": "light"
     },
     "output_type": "display_data"
    }
   ],
   "source": [
    "import matplotlib.pyplot as plt\n",
    "\n",
    "# create lists of x and y values\n",
    "x = list(map(int, avg_title_length_dict.keys()))\n",
    "y = list(avg_title_length_dict.values())\n",
    "\n",
    "# create line graph\n",
    "plt.plot(x, y)\n",
    "\n",
    "# add labels and title\n",
    "plt.xlabel('Year')\n",
    "plt.ylabel('Avg words in Title')\n",
    "plt.title('Average Words in Title per Year')\n",
    "\n",
    "\n",
    "# display the graph\n",
    "plt.show()"
   ]
  },
  {
   "cell_type": "markdown",
   "metadata": {},
   "source": [
    "We can now use Afinn, which measures the connotation of words from a scale of [-5,5] where the lower the number means the word has a negative connotation. By iterating through all of the lyrics we can find which years had a lyrics with positive or negative connotations. "
   ]
  },
  {
   "cell_type": "code",
   "execution_count": 4,
   "metadata": {},
   "outputs": [],
   "source": [
    "from afinn import Afinn\n",
    "afinn = Afinn()\n",
    "connotation_dict = {}\n",
    "for year in range(1950,2023):\n",
    "    connotation_score = 0\n",
    "    for song in range(0,50):\n",
    "        lyrics = data[str(year)][song]['lyrics']\n",
    "        connotation_score += afinn.score(str(lyrics))\n",
    "    avg_con_score = (connotation_score/50)\n",
    "    connotation_dict[str(year)] = avg_con_score"
   ]
  },
  {
   "cell_type": "markdown",
   "metadata": {},
   "source": [
    "We can now put the years in order from most negative to most positive. We can do a lot of analysis om this data."
   ]
  },
  {
   "cell_type": "code",
   "execution_count": 96,
   "metadata": {},
   "outputs": [
    {
     "name": "stdout",
     "output_type": "stream",
     "text": [
      "{'1980': -81.06, '1987': -62.64, '1973': -31.82, '1970': -29.88, '1998': -28.06, '1992': -26.4, '1981': -22.82, '1976': -21.68, '1966': -19.9, '2000': -19.56, '1959': -17.5, '1986': -15.72, '1954': -13.76, '2013': -13.08, '2022': -12.5, '1969': -10.18, '1995': -8.48, '2015': -8.38, '2014': -7.52, '1967': -7.2, '2002': -6.52, '1957': -6.3, '1988': -5.68, '1990': -5.3, '1960': -4.38, '1989': -4.3, '1964': -4.2, '1999': -1.98, '2018': -1.42, '1963': -0.76, '2001': -0.06, '2019': -0.06, '2016': -0.02, '1996': 1.42, '1950': 1.62, '2017': 2.66, '2005': 4.72, '1952': 5.46, '1982': 6.04, '1991': 6.34, '2011': 6.86, '2003': 6.94, '2009': 8.2, '1961': 8.72, '1972': 9.32, '1997': 9.46, '1978': 10.4, '2004': 10.56, '2012': 11.0, '1974': 12.52, '1958': 12.68, '1955': 13.0, '2020': 13.72, '1993': 14.1, '1968': 14.7, '2008': 15.4, '2010': 16.32, '1975': 16.52, '2007': 17.12, '1984': 26.56, '1962': 32.74, '2006': 34.18, '1985': 37.3, '1956': 48.92, '2021': 49.48, '1979': 53.82, '1965': 60.68, '1994': 64.98, '1971': 67.26, '1977': 85.1, '1983': 85.9, '1953': 103.54, '1951': 199.24}\n",
      "The average afinn score for the entire dataset is 9.676438356164391\n"
     ]
    }
   ],
   "source": [
    "sorted_dict = dict(sorted(connotation_dict.items(), key=lambda item: item[1]))\n",
    "print(sorted_dict)\n",
    "print(\"The average afinn score for the entire dataset is \" + str(sum(connotation_dict.values())/len(connotation_dict)))"
   ]
  },
  {
   "cell_type": "code",
   "execution_count": 5,
   "metadata": {},
   "outputs": [
    {
     "data": {
      "image/png": "[encoded data removed]",
      "text/plain": [
       "<Figure size 432x288 with 1 Axes>"
      ]
     },
     "metadata": {
      "needs_background": "light"
     },
     "output_type": "display_data"
    }
   ],
   "source": [
    "import matplotlib.pyplot as plt\n",
    "\n",
    "# create lists of x and y values\n",
    "x = list(map(int, connotation_dict.keys()))\n",
    "y = list(connotation_dict.values())\n",
    "\n",
    "# create line graph\n",
    "plt.plot(x, y)\n",
    "\n",
    "# add labels and title\n",
    "plt.xlabel('Year')\n",
    "plt.ylabel('Avg afinn score')\n",
    "plt.title('Afinn Score of Lyrics, 1950-2022')\n",
    "\n",
    "# display the graph\n",
    "plt.show()"
   ]
  },
  {
   "cell_type": "code",
   "execution_count": 113,
   "metadata": {},
   "outputs": [
    {
     "name": "stdout",
     "output_type": "stream",
     "text": [
      "the: 478\n",
      "you: 289\n",
      "me: 220\n",
      "i: 202\n",
      "remaster: 193\n",
      "a: 192\n",
      "love: 183\n",
      "in: 183\n",
      "remastered: 176\n",
      "of: 162\n",
      "my: 157\n",
      "to: 153\n",
      "on: 113\n",
      "it: 113\n",
      "feat: 91\n",
      "and: 77\n",
      "version: 75\n",
      "with: 73\n",
      "for: 64\n",
      "all: 64\n"
     ]
    }
   ],
   "source": [
    "title_word_counts = {}\n",
    "for year in range(1950,2023):\n",
    "    title_length = 0\n",
    "    for song in range(0,50):\n",
    "        title = data[str(year)][song]['title']\n",
    "        # make the titles lowercase \n",
    "        lower_title = title.lower()\n",
    "        # Remove spaces and special characters\n",
    "        no_punc = ''.join(e for e in lower_title if e.isalnum() or e.isspace())\n",
    "        words = no_punc.split()\n",
    "        # count the frequency of each word\n",
    "        for word in words:\n",
    "            if word in title_word_counts:\n",
    "                title_word_counts[word] += 1\n",
    "            else:\n",
    "                title_word_counts[word] = 1\n",
    "# sort the dictionary by word count in descending order\n",
    "sorted_word_counts = sorted(title_word_counts.items(), key=lambda item: item[1], reverse=True)\n",
    "\n",
    "# print the top 20 most frequent words\n",
    "for word, count in sorted_word_counts[:20]:\n",
    "    print(f'{word}: {count}')"
   ]
  },
  {
   "cell_type": "code",
   "execution_count": 137,
   "metadata": {},
   "outputs": [
    {
     "name": "stdout",
     "output_type": "stream",
     "text": [
      "{'1950': 0, '1951': 0, '1952': 2, '1953': 1, '1954': 0, '1955': 1, '1956': 1, '1957': 3, '1958': 10, '1959': 7, '1960': 2, '1961': 7, '1962': 7, '1963': 5, '1964': 10, '1965': 15, '1966': 5, '1967': 12, '1968': 5, '1969': 11, '1970': 4, '1971': 6, '1972': 6, '1973': 5, '1974': 3, '1975': 5, '1976': 2, '1977': 1, '1978': 3, '1979': 3, '1980': 1, '1981': 2, '1982': 3, '1983': 2, '1984': 5, '1985': 0, '1986': 3, '1987': 2, '1988': 1, '1989': 4, '1990': 1, '1991': 4, '1992': 0, '1993': 1, '1994': 3, '1995': 0, '1996': 2, '1997': 1, '1998': 1, '1999': 0, '2000': 1, '2001': 4, '2002': 2, '2003': 4, '2004': 5, '2005': 0, '2006': 1, '2007': 2, '2008': 2, '2009': 0, '2010': 1, '2011': 0, '2012': 0, '2013': 0, '2014': 2, '2015': 0, '2016': 0, '2017': 0, '2018': 0, '2019': 0, '2020': 0, '2021': 0, '2022': 0}\n"
     ]
    }
   ],
   "source": [
    "with open('Top500.json', 'r') as f:\n",
    "    top500 = json.load(f)\n",
    "\n",
    "top_500_count = {}\n",
    "for year in range(1950,2023):\n",
    "    count = 0\n",
    "    for song in range(0,50):\n",
    "        title = data[str(year)][song]['title']\n",
    "        if any(title == song_dict['title'] for song_dict in top500['songs']):\n",
    "            count += 1\n",
    "    top_500_count[str(year)] = count\n",
    "\n",
    "print(top_500_count)\n"
   ]
  }
 ],
 "metadata": {
  "kernelspec": {
   "display_name": "Python 3",
   "language": "python",
   "name": "python3"
  },
  "language_info": {
   "codemirror_mode": {
    "name": "ipython",
    "version": 3
   },
   "file_extension": ".py",
   "mimetype": "text/x-python",
   "name": "python",
   "nbconvert_exporter": "python",
   "pygments_lexer": "ipython3",
   "version": "3.8.8"
  },
  "vscode": {
   "interpreter": {
    "hash": "b94f47930b570ada23a9e9fef7e2849769cc205e278a86501dce3e7123cc04f2"
   }
  }
 },
 "nbformat": 4,
 "nbformat_minor": 2
}
